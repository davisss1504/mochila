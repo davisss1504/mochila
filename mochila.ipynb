{
 "cells": [
  {
   "cell_type": "code",
   "execution_count": 21,
   "metadata": {},
   "outputs": [
    {
     "name": "stdout",
     "output_type": "stream",
     "text": [
      "221 670\n",
      "Peso 68 Valor 470\n",
      "[('Paquete 1', 9, 150), ('Paquete 2', 9, 160), ('Paquete 4', 50, 160)]\n"
     ]
    }
   ],
   "source": [
    "from operator import itemgetter\n",
    "\n",
    "PAQUETES = (\n",
    "    (\"Paquete 1\", 9, 150), (\"Paquete 2\", 9, 160), (\"Paquete 3\", 153, 200), (\"Paquete 4\", 50, 160))\n",
    "\n",
    "PESOMAXIMO = 150\n",
    "\n",
    "\n",
    "get_peso = itemgetter(1)\n",
    "get_valor = itemgetter(2)\n",
    "\n",
    "def total_peso(paquetes):\n",
    "    return sum(get_peso(x) for x in paquetes)\n",
    "\n",
    "def total_valor(paquetes):\n",
    "    return sum(get_valor(x) for x in paquetes)\n",
    "\n",
    "print(total_peso(PAQUETES), total_valor(PAQUETES))\n",
    "\n",
    "def combinaciones(paquetes, peso_maximo):\n",
    "    paqs = [ p for p in paquetes if get_peso(p) <= peso_maximo ]\n",
    "    resultado = []\n",
    "    for p in paqs:\n",
    "        res = combinaciones([x for x in paqs if x!=p], peso_maximo - get_peso(p))\n",
    "        if len(res) == 0:\n",
    "            resultado.append([p])\n",
    "        else:\n",
    "            resultado.extend([[p]+x for x in res])\n",
    "    return resultado\n",
    "\n",
    "\n",
    "from pprint import pprint\n",
    "\n",
    "sol = max(combinaciones(PAQUETES, PESOMAXIMO), key=total_valor)\n",
    "\n",
    "print(\"Peso {} Valor {}\".format(total_peso(sol), total_valor(sol)))\n",
    "pprint(sol)"
   ]
  },
  {
   "cell_type": "code",
   "execution_count": null,
   "metadata": {},
   "outputs": [],
   "source": []
  }
 ],
 "metadata": {
  "kernelspec": {
   "display_name": "Python 3",
   "language": "python",
   "name": "python3"
  },
  "language_info": {
   "codemirror_mode": {
    "name": "ipython",
    "version": 3
   },
   "file_extension": ".py",
   "mimetype": "text/x-python",
   "name": "python",
   "nbconvert_exporter": "python",
   "pygments_lexer": "ipython3",
   "version": "3.7.6"
  }
 },
 "nbformat": 4,
 "nbformat_minor": 4
}
